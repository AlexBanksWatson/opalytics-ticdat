{
 "cells": [
  {
   "cell_type": "markdown",
   "metadata": {},
   "source": [
    "## prod and slicing in gurobipy and ticdat\n",
    "\n",
    "I'm playing around with adding a `prod` to `ticdat`. It will only work with the `gurobipy.tupledict` object, so this is an engine biased function.\n",
    "\n",
    "What's interesting is that because you define the field names for `ticdat`, you can slice by name instead of by position. This really improves readability in my opinion. \n",
    "\n",
    "Have you guys ever discussed named slicing? It would probably be an easy extention to `gurobipy.tupledict` to include field (aka position) names when calling `addVars`."
   ]
  },
  {
   "cell_type": "code",
   "execution_count": 1,
   "metadata": {
    "collapsed": true
   },
   "outputs": [],
   "source": [
    "import gurobipy as gu\n",
    "from ticdat import TicDatFactory"
   ]
  },
  {
   "cell_type": "code",
   "execution_count": 2,
   "metadata": {
    "collapsed": false
   },
   "outputs": [
    {
     "data": {
      "text/plain": [
       "{(1, 2): <gurobi.Var temp_vars[1,2]>, ('a', 'b'): <gurobi.Var temp_vars[a,b]>}"
      ]
     },
     "execution_count": 2,
     "metadata": {},
     "output_type": "execute_result"
    }
   ],
   "source": [
    "mdl = gu.Model()\n",
    "temp_vars = mdl.addVars([(1,2), (\"a\",\"b\")], vtype=gu.GRB.BINARY,name='temp_vars')\n",
    "temp_vars"
   ]
  },
  {
   "cell_type": "code",
   "execution_count": 3,
   "metadata": {
    "collapsed": false
   },
   "outputs": [
    {
     "data": {
      "text/plain": [
       "{(1, 2): _td:{'Data Field': 12}, ('a', 'b'): _td:{'Data Field': 2}}"
      ]
     },
     "execution_count": 3,
     "metadata": {},
     "output_type": "execute_result"
    }
   ],
   "source": [
    "tdf = TicDatFactory(table = [[\"Field One\", \"Field Two\"],[\"Data Field\"]])\n",
    "dat = tdf.TicDat(table = {(1,2):12, (\"a\",\"b\"):2})\n",
    "dat.table"
   ]
  },
  {
   "cell_type": "markdown",
   "metadata": {},
   "source": [
    "Here is positional slicing with `gurobipy.prod`. For `ticdat` to play along, it needs collapse its inner dicts to actual data values with the `field_dict` function."
   ]
  },
  {
   "cell_type": "code",
   "execution_count": 4,
   "metadata": {
    "collapsed": false
   },
   "outputs": [
    {
     "data": {
      "text/plain": [
       "<gurobi.LinExpr: 2.0 temp_vars[a,b]>"
      ]
     },
     "execution_count": 4,
     "metadata": {},
     "output_type": "execute_result"
    }
   ],
   "source": [
    "temp_vars.prod(dat.table.field_dict(), 'a', '*')"
   ]
  },
  {
   "cell_type": "markdown",
   "metadata": {},
   "source": [
    "Here is named slicing. It renders the same result, but it's more self-documenting. It's more explicit than positional slicing in indicating that the product is over those tuples whose \"field_one\" value is 'a'."
   ]
  },
  {
   "cell_type": "code",
   "execution_count": 5,
   "metadata": {
    "collapsed": false
   },
   "outputs": [
    {
     "data": {
      "text/plain": [
       "<gurobi.LinExpr: 2.0 temp_vars[a,b]>"
      ]
     },
     "execution_count": 5,
     "metadata": {},
     "output_type": "execute_result"
    }
   ],
   "source": [
    "dat.table.prod(temp_vars, field_one = \"a\")"
   ]
  },
  {
   "cell_type": "markdown",
   "metadata": {},
   "source": [
    "Let's see it again - first positional slicing."
   ]
  },
  {
   "cell_type": "code",
   "execution_count": 6,
   "metadata": {
    "collapsed": false
   },
   "outputs": [
    {
     "data": {
      "text/plain": [
       "<gurobi.LinExpr: 12.0 temp_vars[1,2]>"
      ]
     },
     "execution_count": 6,
     "metadata": {},
     "output_type": "execute_result"
    }
   ],
   "source": [
    "temp_vars.prod(dat.table.field_dict(), '*', 2)"
   ]
  },
  {
   "cell_type": "markdown",
   "metadata": {},
   "source": [
    "Then named slicing."
   ]
  },
  {
   "cell_type": "code",
   "execution_count": 7,
   "metadata": {
    "collapsed": false
   },
   "outputs": [
    {
     "data": {
      "text/plain": [
       "<gurobi.LinExpr: 12.0 temp_vars[1,2]>"
      ]
     },
     "execution_count": 7,
     "metadata": {},
     "output_type": "execute_result"
    }
   ],
   "source": [
    "dat.table.prod(temp_vars, field_two = 2)"
   ]
  },
  {
   "cell_type": "markdown",
   "metadata": {},
   "source": [
    "Just to include the basic case, we verify that both `ticdat` and `gurobipy` implement the same `prod`."
   ]
  },
  {
   "cell_type": "code",
   "execution_count": 8,
   "metadata": {
    "collapsed": false
   },
   "outputs": [
    {
     "data": {
      "text/plain": [
       "<gurobi.LinExpr: 12.0 temp_vars[1,2] + 2.0 temp_vars[a,b]>"
      ]
     },
     "execution_count": 8,
     "metadata": {},
     "output_type": "execute_result"
    }
   ],
   "source": [
    "temp_vars.prod(dat.table.field_dict())"
   ]
  },
  {
   "cell_type": "code",
   "execution_count": 9,
   "metadata": {
    "collapsed": false
   },
   "outputs": [
    {
     "data": {
      "text/plain": [
       "<gurobi.LinExpr: 12.0 temp_vars[1,2] + 2.0 temp_vars[a,b]>"
      ]
     },
     "execution_count": 9,
     "metadata": {},
     "output_type": "execute_result"
    }
   ],
   "source": [
    "dat.table.prod(temp_vars)"
   ]
  }
 ],
 "metadata": {
  "kernelspec": {
   "display_name": "Python 2",
   "language": "python",
   "name": "python2"
  },
  "language_info": {
   "codemirror_mode": {
    "name": "ipython",
    "version": 2
   },
   "file_extension": ".py",
   "mimetype": "text/x-python",
   "name": "python",
   "nbconvert_exporter": "python",
   "pygments_lexer": "ipython2",
   "version": "2.7.11"
  }
 },
 "nbformat": 4,
 "nbformat_minor": 0
}
