{
 "cells": [
  {
   "cell_type": "markdown",
   "metadata": {},
   "source": [
    "## prod and slicing in gurobipy and ticdat\n",
    "\n",
    "I'm playing around with adding a `prod` to `ticdat`. It will only work with the `gurobipy.tupledict` object, so this is an engine biased function.\n",
    "\n",
    "What's interesting is that because you define the field names for `ticdat`, you can slice by name instead of by position. This really improves readability in my opinion. \n",
    "\n",
    "Have you guys ever discussed named slicing? It would probably be an easy extention to `gurobipy.tupledict` to include field (aka position) names when calling `addVars`."
   ]
  },
  {
   "cell_type": "code",
   "execution_count": 1,
   "metadata": {
    "collapsed": true
   },
   "outputs": [],
   "source": [
    "import gurobipy as gu\n",
    "from ticdat import TicDatFactory"
   ]
  },
  {
   "cell_type": "code",
   "execution_count": 2,
   "metadata": {
    "collapsed": false
   },
   "outputs": [
    {
     "data": {
      "text/plain": [
       "{(1, 2): <gurobi.Var temp_vars[1,2]>, ('a', 'b'): <gurobi.Var temp_vars[a,b]>}"
      ]
     },
     "execution_count": 2,
     "metadata": {},
     "output_type": "execute_result"
    }
   ],
   "source": [
    "mdl = gu.Model()\n",
    "temp_vars = mdl.addVars([(1,2), (\"a\",\"b\")], vtype=gu.GRB.BINARY,name='temp_vars')\n",
    "temp_vars"
   ]
  },
  {
   "cell_type": "code",
   "execution_count": 3,
   "metadata": {
    "collapsed": false
   },
   "outputs": [
    {
     "data": {
      "text/plain": [
       "{(1, 2): _td:{'Data Field': 12}, ('a', 'b'): _td:{'Data Field': 2}}"
      ]
     },
     "execution_count": 3,
     "metadata": {},
     "output_type": "execute_result"
    }
   ],
   "source": [
    "tdf = TicDatFactory(table = [[\"Field One\", \"Field Two\"],[\"Data Field\"]])\n",
    "dat = tdf.TicDat(table = {(1,2):12, (\"a\",\"b\"):2})\n",
    "dat.table"
   ]
  },
  {
   "cell_type": "markdown",
   "metadata": {},
   "source": [
    "Here is positional slicing with `gurobipy.prod`. For `ticdat` to play along, it needs collapse its inner dicts to actual data values with the `field_dict` function."
   ]
  },
  {
   "cell_type": "code",
   "execution_count": 4,
   "metadata": {
    "collapsed": false
   },
   "outputs": [
    {
     "data": {
      "text/plain": [
       "<gurobi.LinExpr: 2.0 temp_vars[a,b]>"
      ]
     },
     "execution_count": 4,
     "metadata": {},
     "output_type": "execute_result"
    }
   ],
   "source": [
    "temp_vars.prod(dat.table.field_dict(), 'a', '*')"
   ]
  },
  {
   "cell_type": "markdown",
   "metadata": {},
   "source": [
    "Here is named slicing. It renders the same result, but it's more self-documenting. It's more explicit than positional slicing in indicating that the product is over those tuples whose \"field_one\" value is 'a'."
   ]
  },
  {
   "cell_type": "code",
   "execution_count": 5,
   "metadata": {
    "collapsed": false
   },
   "outputs": [
    {
     "data": {
      "text/plain": [
       "<gurobi.LinExpr: 2.0 temp_vars[a,b]>"
      ]
     },
     "execution_count": 5,
     "metadata": {},
     "output_type": "execute_result"
    }
   ],
   "source": [
    "dat.table.prod(temp_vars, field_one = \"a\")"
   ]
  },
  {
   "cell_type": "markdown",
   "metadata": {},
   "source": [
    "Let's see it again - first positional slicing."
   ]
  },
  {
   "cell_type": "code",
   "execution_count": 6,
   "metadata": {
    "collapsed": false
   },
   "outputs": [
    {
     "data": {
      "text/plain": [
       "<gurobi.LinExpr: 12.0 temp_vars[1,2]>"
      ]
     },
     "execution_count": 6,
     "metadata": {},
     "output_type": "execute_result"
    }
   ],
   "source": [
    "temp_vars.prod(dat.table.field_dict(), '*', 2)"
   ]
  },
  {
   "cell_type": "markdown",
   "metadata": {},
   "source": [
    "Then named slicing."
   ]
  },
  {
   "cell_type": "code",
   "execution_count": 7,
   "metadata": {
    "collapsed": false
   },
   "outputs": [
    {
     "data": {
      "text/plain": [
       "<gurobi.LinExpr: 12.0 temp_vars[1,2]>"
      ]
     },
     "execution_count": 7,
     "metadata": {},
     "output_type": "execute_result"
    }
   ],
   "source": [
    "dat.table.prod(temp_vars, field_two = 2)"
   ]
  },
  {
   "cell_type": "markdown",
   "metadata": {},
   "source": [
    "Just to include the basic case, we verify that both `ticdat` and `gurobipy` implement the same `prod`."
   ]
  },
  {
   "cell_type": "code",
   "execution_count": 8,
   "metadata": {
    "collapsed": false
   },
   "outputs": [
    {
     "data": {
      "text/plain": [
       "<gurobi.LinExpr: 12.0 temp_vars[1,2] + 2.0 temp_vars[a,b]>"
      ]
     },
     "execution_count": 8,
     "metadata": {},
     "output_type": "execute_result"
    }
   ],
   "source": [
    "temp_vars.prod(dat.table.field_dict())"
   ]
  },
  {
   "cell_type": "code",
   "execution_count": 9,
   "metadata": {
    "collapsed": false
   },
   "outputs": [
    {
     "data": {
      "text/plain": [
       "<gurobi.LinExpr: 12.0 temp_vars[1,2] + 2.0 temp_vars[a,b]>"
      ]
     },
     "execution_count": 9,
     "metadata": {},
     "output_type": "execute_result"
    }
   ],
   "source": [
    "dat.table.prod(temp_vars)"
   ]
  },
  {
   "cell_type": "markdown",
   "metadata": {},
   "source": [
    "# the super duper section"
   ]
  },
  {
   "cell_type": "code",
   "execution_count": 10,
   "metadata": {
    "collapsed": false
   },
   "outputs": [
    {
     "data": {
      "text/plain": [
       "{(1, 3): <gurobi.Var super_vars[1,3]>,\n",
       " (1, 4): <gurobi.Var super_vars[1,4]>,\n",
       " (1, 5): <gurobi.Var super_vars[1,5]>,\n",
       " (1, 6): <gurobi.Var super_vars[1,6]>,\n",
       " (1, 7): <gurobi.Var super_vars[1,7]>,\n",
       " (1, 8): <gurobi.Var super_vars[1,8]>,\n",
       " (1, 9): <gurobi.Var super_vars[1,9]>,\n",
       " (2, 2): <gurobi.Var super_vars[2,2]>,\n",
       " (2, 3): <gurobi.Var super_vars[2,3]>,\n",
       " (2, 4): <gurobi.Var super_vars[2,4]>,\n",
       " (2, 5): <gurobi.Var super_vars[2,5]>,\n",
       " (2, 6): <gurobi.Var super_vars[2,6]>,\n",
       " (2, 7): <gurobi.Var super_vars[2,7]>,\n",
       " (2, 8): <gurobi.Var super_vars[2,8]>,\n",
       " ('a', 5): <gurobi.Var super_vars[a,5]>,\n",
       " ('a', 6): <gurobi.Var super_vars[a,6]>,\n",
       " ('a', 7): <gurobi.Var super_vars[a,7]>,\n",
       " ('a', 8): <gurobi.Var super_vars[a,8]>,\n",
       " ('a', 9): <gurobi.Var super_vars[a,9]>,\n",
       " ('a', 10): <gurobi.Var super_vars[a,10]>,\n",
       " ('a', 11): <gurobi.Var super_vars[a,11]>}"
      ]
     },
     "execution_count": 10,
     "metadata": {},
     "output_type": "execute_result"
    }
   ],
   "source": [
    "super_vars = mdl.addVars([(1,i) for i in range(3,10)] +  \n",
    "                         [(\"a\",i) for i in range(5,12)] + \n",
    "                         [(2,i) for i in range(2,9)], \n",
    "                         vtype=gu.GRB.BINARY,name='super_vars')\n",
    "mdl.update()\n",
    "super_vars"
   ]
  },
  {
   "cell_type": "code",
   "execution_count": 11,
   "metadata": {
    "collapsed": false
   },
   "outputs": [],
   "source": [
    "from ticdat import Slicer\n",
    "slicer = Slicer([(1,i) for i in range(6,9)] +  \n",
    "                [(\"a\",i) for i in range(7,10)] + \n",
    "                [(2,i) for i in range(2,9)], field_names = [\"boger\", \"woger\"])"
   ]
  },
  {
   "cell_type": "markdown",
   "metadata": {},
   "source": [
    "## Remember - goal is to avoid any slice variables (i.e. no comprehsions) \n",
    "\n",
    "Can use an anonymous function to determine the coefficient for each entry in the created linear expression."
   ]
  },
  {
   "cell_type": "code",
   "execution_count": 12,
   "metadata": {
    "collapsed": false
   },
   "outputs": [
    {
     "data": {
      "text/plain": [
       "<gurobi.LinExpr: 0.0 super_vars[1,3] + 0.0 super_vars[1,4] + 0.0 super_vars[1,5] + 600.0 super_vars[1,6] + 700.0 super_vars[1,7] + 800.0 super_vars[1,8] + 0.0 super_vars[1,9]>"
      ]
     },
     "execution_count": 12,
     "metadata": {},
     "output_type": "execute_result"
    }
   ],
   "source": [
    "slicer.select(boger = 1).prod(super_vars, scalar = lambda b,w : w*100)"
   ]
  },
  {
   "cell_type": "markdown",
   "metadata": {},
   "source": [
    "Also can use dict for the same purpose. (Default scalar is 1)."
   ]
  },
  {
   "cell_type": "code",
   "execution_count": 13,
   "metadata": {
    "collapsed": false
   },
   "outputs": [
    {
     "data": {
      "text/plain": [
       "<gurobi.LinExpr: 10.0 super_vars[1,8] + super_vars[a,8] + 20.0 super_vars[2,8]>"
      ]
     },
     "execution_count": 13,
     "metadata": {},
     "output_type": "execute_result"
    }
   ],
   "source": [
    "slicer.select(woger = 8).prod(super_vars, scalar = {(1,8):10,(2,8):20} )"
   ]
  },
  {
   "cell_type": "markdown",
   "metadata": {},
   "source": [
    "Also can use an anonymous function for filtering (sidestepping another need for comprehensions). Here the filter can't truly remove anything, but it can set the coeficient to zero if the filter function returns false."
   ]
  },
  {
   "cell_type": "code",
   "execution_count": 14,
   "metadata": {
    "collapsed": false
   },
   "outputs": [
    {
     "data": {
      "text/plain": [
       "<gurobi.LinExpr: super_vars[1,8] + 0.0 super_vars[a,8] + super_vars[2,8]>"
      ]
     },
     "execution_count": 14,
     "metadata": {},
     "output_type": "execute_result"
    }
   ],
   "source": [
    "slicer.select(woger = 8).prod(super_vars, filter = lambda b,w : b in [1,2])"
   ]
  },
  {
   "cell_type": "markdown",
   "metadata": {},
   "source": [
    "Not really needed, but the scalar argument recognizes a fixed value."
   ]
  },
  {
   "cell_type": "code",
   "execution_count": 15,
   "metadata": {
    "collapsed": false
   },
   "outputs": [
    {
     "data": {
      "text/plain": [
       "<gurobi.LinExpr: 12.0 super_vars[1,8] + 0.0 super_vars[a,8] + 12.0 super_vars[2,8]>"
      ]
     },
     "execution_count": 15,
     "metadata": {},
     "output_type": "execute_result"
    }
   ],
   "source": [
    "slicer.select(woger = 8).prod(super_vars, filter = lambda b,w : b in [1,2], scalar = 12 )"
   ]
  },
  {
   "cell_type": "code",
   "execution_count": 16,
   "metadata": {
    "collapsed": false
   },
   "outputs": [
    {
     "data": {
      "text/plain": [
       "<gurobi.LinExpr: 12.0 super_vars[1,8] + 0.0 super_vars[a,8] + 12.0 super_vars[2,8]>"
      ]
     },
     "execution_count": 16,
     "metadata": {},
     "output_type": "execute_result"
    }
   ],
   "source": [
    "12 * slicer.select(woger = 8).prod(super_vars, filter = lambda b,w : b in [1,2])"
   ]
  }
 ],
 "metadata": {
  "kernelspec": {
   "display_name": "Python 2",
   "language": "python",
   "name": "python2"
  },
  "language_info": {
   "codemirror_mode": {
    "name": "ipython",
    "version": 2
   },
   "file_extension": ".py",
   "mimetype": "text/x-python",
   "name": "python",
   "nbconvert_exporter": "python",
   "pygments_lexer": "ipython2",
   "version": "2.7.11"
  }
 },
 "nbformat": 4,
 "nbformat_minor": 0
}
