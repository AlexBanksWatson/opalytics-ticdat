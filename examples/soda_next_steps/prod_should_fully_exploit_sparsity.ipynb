{
 "cells": [
  {
   "cell_type": "markdown",
   "metadata": {},
   "source": [
    "## Please be more open minded open exploiting efficient sparse lookups.\n",
    "\n",
    "The `gurobipy.tupledict.prod` function really is great, but I honestly think you are being far too inefficient in how you exploit a dictish coefs argument. In fact, I find this inefficiency so far outside of \"least astonishent\" as to be a bug (albeit a minor one) but of course that is for you to decide. "
   ]
  },
  {
   "cell_type": "code",
   "execution_count": 1,
   "metadata": {
    "collapsed": true
   },
   "outputs": [],
   "source": [
    "import gurobipy as gu"
   ]
  },
  {
   "cell_type": "code",
   "execution_count": 2,
   "metadata": {
    "collapsed": true
   },
   "outputs": [],
   "source": [
    "mdl = gu.Model()\n",
    "super_vars = mdl.addVars([(1,i) for i in range(3,4000)] +  \n",
    "                     [(2,i) for i in range(5,4000)] + \n",
    "                     [(3,i) for i in range(2,4000)], \n",
    "                     vtype=gu.GRB.BINARY,name='super_vars')\n",
    "def yourSlicing():\n",
    "    rtn = []\n",
    "    for i,j in enumerate([1, 2, 3]):\n",
    "        coefs = {(j, j*10): 10, (j, j*20):20, (j, j*30):30}\n",
    "        rtn.append(super_vars.prod(coefs) <= j)\n",
    "    return rtn"
   ]
  },
  {
   "cell_type": "code",
   "execution_count": 3,
   "metadata": {
    "collapsed": false
   },
   "outputs": [
    {
     "name": "stdout",
     "output_type": "stream",
     "text": [
      "10 loops, best of 3: 63.2 ms per loop\n"
     ]
    }
   ],
   "source": [
    "%timeit yourSlicing()"
   ]
  },
  {
   "cell_type": "code",
   "execution_count": 4,
   "metadata": {
    "collapsed": true
   },
   "outputs": [],
   "source": [
    "mdl = gu.Model()\n",
    "super_vars = mdl.addVars([(1,i) for i in range(3,4000)] +  \n",
    "                     [(2,i) for i in range(5,4000)] + \n",
    "                     [(3,i) for i in range(2,4000)], \n",
    "                     vtype=gu.GRB.BINARY,name='super_vars')\n",
    "def mySlicing():\n",
    "    rtn = []\n",
    "    for i,j in enumerate([1, 2, 3]):\n",
    "        coefs = {(j, j*10): 10, (j, j*20):20, (j, j*30):30}\n",
    "        rtn.append(gu.quicksum(v*super_vars[k] for k,v in coefs.items()) <= j)\n",
    "    return rtn"
   ]
  },
  {
   "cell_type": "code",
   "execution_count": 5,
   "metadata": {
    "collapsed": false
   },
   "outputs": [
    {
     "name": "stdout",
     "output_type": "stream",
     "text": [
      "10000 loops, best of 3: 28.3 µs per loop\n"
     ]
    }
   ],
   "source": [
    "%timeit mySlicing()"
   ]
  },
  {
   "cell_type": "markdown",
   "metadata": {},
   "source": [
    "To my mind, the `mySlicing` look-up method is simply what I would expect `prod` to do when passed a dict. After all, `gurobipy.tupledict` is really a `dict`, and the pythonic expectation is that when two dict's cross product with each other they do it efficiently by exploitng the efficient hash-based indexing."
   ]
  },
  {
   "cell_type": "markdown",
   "metadata": {
    "collapsed": true
   },
   "source": [
    "## Extended examination\n",
    "\n",
    "Here is a tickier version along these lines. I possibly wandered into absurd circumstances here, so if your technical fix doesn't address this I wouldn't worry too much... just curious as to how it runs. "
   ]
  },
  {
   "cell_type": "code",
   "execution_count": 6,
   "metadata": {
    "collapsed": false
   },
   "outputs": [],
   "source": [
    "mdl = gu.Model()\n",
    "super_vars = mdl.addVars([(j,i) for i in range(3,5000) for j in range(1,10)], \n",
    "                     vtype=gu.GRB.BINARY,name='super_vars')\n",
    "def yourSlicing():\n",
    "    rtn = []\n",
    "    for i,j in enumerate(range(2000)):\n",
    "        coefs = {(j%10, j*10): 10, (j%10, (j*20)%5000):20, (j%10, (j*30)%5000):30, \n",
    "                 (1,7):100, (2,8):200, (3,9):300}\n",
    "        rtn.append(super_vars.prod(coefs, j%10, '*') <= j)\n",
    "    return rtn"
   ]
  },
  {
   "cell_type": "code",
   "execution_count": 7,
   "metadata": {
    "collapsed": false
   },
   "outputs": [
    {
     "name": "stdout",
     "output_type": "stream",
     "text": [
      "1 loops, best of 3: 17.6 s per loop\n"
     ]
    }
   ],
   "source": [
    "%timeit yourSlicing()"
   ]
  },
  {
   "cell_type": "code",
   "execution_count": 8,
   "metadata": {
    "collapsed": false
   },
   "outputs": [],
   "source": [
    "mdl = gu.Model()\n",
    "super_vars = mdl.addVars([(j,i) for i in range(3,5000) for j in range(1,10)], \n",
    "                     vtype=gu.GRB.BINARY,name='super_vars')\n",
    "def mySlicing():\n",
    "    rtn = []\n",
    "    tl = gu.tuplelist(super_vars)\n",
    "    selects = {}\n",
    "    for i,j in enumerate(range(2000)):\n",
    "        coefs = {(j%10, j*10): 10, (j%10, (j*20)%5000):20, (j%10, (j*30)%5000):30, \n",
    "                 (1,7):100, (2,8):200, (3,9):300}\n",
    "        if j%10 not in selects:\n",
    "            selects[j%10] = set(tl.select(j%10, '*'))\n",
    "        rtn.append(gu.quicksum(coefs[k]*super_vars[k] for k in selects[j%10].intersection(coefs)) <= j)\n",
    "    return rtn"
   ]
  },
  {
   "cell_type": "code",
   "execution_count": 9,
   "metadata": {
    "collapsed": false
   },
   "outputs": [
    {
     "name": "stdout",
     "output_type": "stream",
     "text": [
      "10 loops, best of 3: 104 ms per loop\n"
     ]
    }
   ],
   "source": [
    "%timeit mySlicing()"
   ]
  },
  {
   "cell_type": "code",
   "execution_count": null,
   "metadata": {
    "collapsed": true
   },
   "outputs": [],
   "source": []
  }
 ],
 "metadata": {
  "kernelspec": {
   "display_name": "Python 2",
   "language": "python",
   "name": "python2"
  },
  "language_info": {
   "codemirror_mode": {
    "name": "ipython",
    "version": 2
   },
   "file_extension": ".py",
   "mimetype": "text/x-python",
   "name": "python",
   "nbconvert_exporter": "python",
   "pygments_lexer": "ipython2",
   "version": "2.7.11"
  }
 },
 "nbformat": 4,
 "nbformat_minor": 0
}
