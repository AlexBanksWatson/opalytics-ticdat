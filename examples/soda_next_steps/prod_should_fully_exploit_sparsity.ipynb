{
 "cells": [
  {
   "cell_type": "markdown",
   "metadata": {},
   "source": [
    "## Please be more open minded open exploiting efficient sparse lookups.\n",
    "\n",
    "The `gurobipy.tupledict.prod` function really is great, but I honestly think you are being far too inefficient in how you exploit a dictish coefs argument. In fact, I find this inefficiency so far outside of \"least astonishent\" as to be a bug (albeit a minor one) but of course that is for you to decide. "
   ]
  },
  {
   "cell_type": "code",
   "execution_count": 1,
   "metadata": {
    "collapsed": true
   },
   "outputs": [],
   "source": [
    "import gurobipy as gu"
   ]
  },
  {
   "cell_type": "code",
   "execution_count": 2,
   "metadata": {
    "collapsed": true
   },
   "outputs": [],
   "source": [
    "mdl = gu.Model()\n",
    "super_vars = mdl.addVars([(1,i) for i in range(3,4000)] +  \n",
    "                     [(2,i) for i in range(5,4000)] + \n",
    "                     [(3,i) for i in range(2,4000)], \n",
    "                     vtype=gu.GRB.BINARY,name='super_vars')\n",
    "def yourSlicing():\n",
    "    rtn = []\n",
    "    for i,j in enumerate([1, 2, 3]):\n",
    "        coefs = {(j, j*10): 10, (j, j*20):20, (j, j*30):30}\n",
    "        rtn.append(super_vars.prod(coefs) <= i)\n",
    "    return rtn"
   ]
  },
  {
   "cell_type": "code",
   "execution_count": 3,
   "metadata": {
    "collapsed": false
   },
   "outputs": [
    {
     "name": "stdout",
     "output_type": "stream",
     "text": [
      "10 loops, best of 3: 69.7 ms per loop\n"
     ]
    }
   ],
   "source": [
    "%timeit yourSlicing()"
   ]
  },
  {
   "cell_type": "code",
   "execution_count": 4,
   "metadata": {
    "collapsed": true
   },
   "outputs": [],
   "source": [
    "mdl = gu.Model()\n",
    "super_vars = mdl.addVars([(1,i) for i in range(3,4000)] +  \n",
    "                     [(2,i) for i in range(5,4000)] + \n",
    "                     [(3,i) for i in range(2,4000)], \n",
    "                     vtype=gu.GRB.BINARY,name='super_vars')\n",
    "def mySlicing():\n",
    "    rtn = []\n",
    "    for i,j in enumerate([1, 2, 3]):\n",
    "        coefs = {(j, j*10): 10, (j, j*20):20, (j, j*30):30}\n",
    "        rtn.append(gu.quicksum(v*super_vars[k] for k,v in coefs.items()) <= j)\n",
    "    return rtn"
   ]
  },
  {
   "cell_type": "code",
   "execution_count": 5,
   "metadata": {
    "collapsed": false
   },
   "outputs": [
    {
     "name": "stdout",
     "output_type": "stream",
     "text": [
      "10000 loops, best of 3: 33.2 µs per loop\n"
     ]
    }
   ],
   "source": [
    "%timeit mySlicing()"
   ]
  },
  {
   "cell_type": "markdown",
   "metadata": {},
   "source": [
    "To my mind, the `mySlicing` look-up method is simply what I would expect `prod` to do when passed a dict. After all, `gurobipy.tupledict` is really a `dict`, and the pythonic expectation is that when two dict's cross product with each other they do it efficiently by exploitng the efficient hash-based indexing."
   ]
  },
  {
   "cell_type": "code",
   "execution_count": null,
   "metadata": {
    "collapsed": true
   },
   "outputs": [],
   "source": []
  }
 ],
 "metadata": {
  "kernelspec": {
   "display_name": "Python 2",
   "language": "python",
   "name": "python2"
  },
  "language_info": {
   "codemirror_mode": {
    "name": "ipython",
    "version": 2
   },
   "file_extension": ".py",
   "mimetype": "text/x-python",
   "name": "python",
   "nbconvert_exporter": "python",
   "pygments_lexer": "ipython2",
   "version": "2.7.11"
  }
 },
 "nbformat": 4,
 "nbformat_minor": 0
}
