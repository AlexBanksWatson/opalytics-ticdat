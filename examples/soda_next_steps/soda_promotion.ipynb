{
 "cells": [
  {
   "cell_type": "markdown",
   "metadata": {},
   "source": [
    "# Super Bowl Soda Promotion\n",
    "\n",
    "A planner is preparing for the annual Super Bowl soda promotion. Certain lines of soda will go on sale, with others remaining at their standard price. The objective is to maximize the total sales, while obeying specified KPI restrictions. In addition, cannibalization should be avoided by limiting the number of sales that are applied to the same product family.\n",
    "\n",
    "At his disposal is a set of historical records from which inferences can be drawn as to how price, weather, holiday status, and preceeding sales effect future demand. By applying machine learning techniques, we can apply the historical data against the current set of similar data to predict the likely demand for each product/price pair. This data, along with product family and KPI information, can then be fed to an optimization problem."
   ]
  },
  {
   "cell_type": "markdown",
   "metadata": {},
   "source": [
    "# Machine Learning Section\n",
    "### Load and explore historical data"
   ]
  },
  {
   "cell_type": "code",
   "execution_count": 1,
   "metadata": {
    "collapsed": false
   },
   "outputs": [],
   "source": [
    "import pandas\n",
    "from pandas import DataFrame, get_dummies\n",
    "from sklearn.tree import DecisionTreeRegressor\n",
    "from sklearn.ensemble import RandomForestRegressor\n",
    "from sklearn.linear_model import LinearRegression\n",
    "from sklearn.ensemble import BaggingRegressor\n",
    "from sklearn import model_selection"
   ]
  },
  {
   "cell_type": "code",
   "execution_count": 2,
   "metadata": {
    "collapsed": false
   },
   "outputs": [],
   "source": [
    "df_hist = pandas.read_excel(\"soda_sales_historical_data.xlsx\")"
   ]
  },
  {
   "cell_type": "code",
   "execution_count": 3,
   "metadata": {
    "collapsed": false
   },
   "outputs": [
    {
     "data": {
      "text/html": [
       "<div>\n",
       "<table border=\"1\" class=\"dataframe\">\n",
       "  <thead>\n",
       "    <tr style=\"text-align: right;\">\n",
       "      <th></th>\n",
       "      <th>Product</th>\n",
       "      <th>Sales</th>\n",
       "      <th>Cost Per Unit</th>\n",
       "      <th>Easter Included</th>\n",
       "      <th>Super Bowl Included</th>\n",
       "      <th>Christmas Included</th>\n",
       "      <th>Other Holiday</th>\n",
       "      <th>4 Wk Avg Temp</th>\n",
       "      <th>4 Wk Avg Humidity</th>\n",
       "      <th>Sales M-1 weeks</th>\n",
       "      <th>Sales M-2 weeks</th>\n",
       "      <th>Sales M-3 weeks</th>\n",
       "      <th>Sales M-4 Weeks</th>\n",
       "      <th>Sales M-5 weeks</th>\n",
       "    </tr>\n",
       "  </thead>\n",
       "  <tbody>\n",
       "    <tr>\n",
       "      <th>0</th>\n",
       "      <td>11 Down</td>\n",
       "      <td>51.9</td>\n",
       "      <td>1.6625</td>\n",
       "      <td>No</td>\n",
       "      <td>No</td>\n",
       "      <td>Yes</td>\n",
       "      <td>No</td>\n",
       "      <td>80.69</td>\n",
       "      <td>69.19</td>\n",
       "      <td>17.0</td>\n",
       "      <td>22.4</td>\n",
       "      <td>13.5</td>\n",
       "      <td>14.5</td>\n",
       "      <td>28.0</td>\n",
       "    </tr>\n",
       "    <tr>\n",
       "      <th>1</th>\n",
       "      <td>Alpine Stream</td>\n",
       "      <td>55.8</td>\n",
       "      <td>2.2725</td>\n",
       "      <td>No</td>\n",
       "      <td>No</td>\n",
       "      <td>Yes</td>\n",
       "      <td>No</td>\n",
       "      <td>80.69</td>\n",
       "      <td>69.19</td>\n",
       "      <td>2.4</td>\n",
       "      <td>2.2</td>\n",
       "      <td>2.0</td>\n",
       "      <td>1.4</td>\n",
       "      <td>0.5</td>\n",
       "    </tr>\n",
       "    <tr>\n",
       "      <th>2</th>\n",
       "      <td>Bright</td>\n",
       "      <td>3385.6</td>\n",
       "      <td>1.3475</td>\n",
       "      <td>No</td>\n",
       "      <td>No</td>\n",
       "      <td>Yes</td>\n",
       "      <td>No</td>\n",
       "      <td>80.69</td>\n",
       "      <td>69.19</td>\n",
       "      <td>301.8</td>\n",
       "      <td>188.8</td>\n",
       "      <td>101.4</td>\n",
       "      <td>81.6</td>\n",
       "      <td>213.8</td>\n",
       "    </tr>\n",
       "    <tr>\n",
       "      <th>3</th>\n",
       "      <td>Crisp Clear</td>\n",
       "      <td>63.5</td>\n",
       "      <td>1.6600</td>\n",
       "      <td>No</td>\n",
       "      <td>No</td>\n",
       "      <td>Yes</td>\n",
       "      <td>No</td>\n",
       "      <td>80.69</td>\n",
       "      <td>69.19</td>\n",
       "      <td>73.8</td>\n",
       "      <td>69.4</td>\n",
       "      <td>72.8</td>\n",
       "      <td>75.4</td>\n",
       "      <td>57.4</td>\n",
       "    </tr>\n",
       "    <tr>\n",
       "      <th>4</th>\n",
       "      <td>Popsi Kola</td>\n",
       "      <td>181.1</td>\n",
       "      <td>1.8725</td>\n",
       "      <td>No</td>\n",
       "      <td>No</td>\n",
       "      <td>Yes</td>\n",
       "      <td>No</td>\n",
       "      <td>80.69</td>\n",
       "      <td>69.19</td>\n",
       "      <td>23.1</td>\n",
       "      <td>22.6</td>\n",
       "      <td>22.1</td>\n",
       "      <td>19.9</td>\n",
       "      <td>23.2</td>\n",
       "    </tr>\n",
       "  </tbody>\n",
       "</table>\n",
       "</div>"
      ],
      "text/plain": [
       "         Product   Sales  Cost Per Unit Easter Included Super Bowl Included  \\\n",
       "0        11 Down    51.9         1.6625              No                  No   \n",
       "1  Alpine Stream    55.8         2.2725              No                  No   \n",
       "2         Bright  3385.6         1.3475              No                  No   \n",
       "3    Crisp Clear    63.5         1.6600              No                  No   \n",
       "4     Popsi Kola   181.1         1.8725              No                  No   \n",
       "\n",
       "  Christmas Included Other Holiday  4 Wk Avg Temp  4 Wk Avg Humidity  \\\n",
       "0                Yes            No          80.69              69.19   \n",
       "1                Yes            No          80.69              69.19   \n",
       "2                Yes            No          80.69              69.19   \n",
       "3                Yes            No          80.69              69.19   \n",
       "4                Yes            No          80.69              69.19   \n",
       "\n",
       "   Sales M-1 weeks  Sales M-2 weeks  Sales M-3 weeks  Sales M-4 Weeks  \\\n",
       "0             17.0             22.4             13.5             14.5   \n",
       "1              2.4              2.2              2.0              1.4   \n",
       "2            301.8            188.8            101.4             81.6   \n",
       "3             73.8             69.4             72.8             75.4   \n",
       "4             23.1             22.6             22.1             19.9   \n",
       "\n",
       "   Sales M-5 weeks  \n",
       "0             28.0  \n",
       "1              0.5  \n",
       "2            213.8  \n",
       "3             57.4  \n",
       "4             23.2  "
      ]
     },
     "execution_count": 3,
     "metadata": {},
     "output_type": "execute_result"
    }
   ],
   "source": [
    "df_hist[:5]"
   ]
  },
  {
   "cell_type": "code",
   "execution_count": 4,
   "metadata": {
    "collapsed": false
   },
   "outputs": [
    {
     "data": {
      "text/plain": [
       "596"
      ]
     },
     "execution_count": 4,
     "metadata": {},
     "output_type": "execute_result"
    }
   ],
   "source": [
    "len(df_hist)"
   ]
  },
  {
   "cell_type": "markdown",
   "metadata": {},
   "source": [
    "### Experiment (aka Cross Fold Validation)\n",
    "\n",
    "Here, we use cross-fold validation to determine which ML algorithm is most appropriate for the historical data."
   ]
  },
  {
   "cell_type": "code",
   "execution_count": 5,
   "metadata": {
    "collapsed": true
   },
   "outputs": [],
   "source": [
    "categorical_columns = ['Product','Easter Included','Super Bowl Included', 'Christmas Included',\n",
    "                       'Other Holiday']"
   ]
  },
  {
   "cell_type": "code",
   "execution_count": 6,
   "metadata": {
    "collapsed": false
   },
   "outputs": [],
   "source": [
    "df_hist = get_dummies(df_hist, prefix={k:\"dmy_%s\"%k for k in categorical_columns},\n",
    "                      columns = list(categorical_columns))"
   ]
  },
  {
   "cell_type": "code",
   "execution_count": 7,
   "metadata": {
    "collapsed": false
   },
   "outputs": [],
   "source": [
    "experiments = {\"Algorithm\":[\"Ordinary Least Squares\", \"Regression Tree\", \"Random Forest\", \n",
    "                            \"Bagging\"], \n",
    "               \"Objects\" : [LinearRegression(), DecisionTreeRegressor(), \n",
    "                            RandomForestRegressor(), BaggingRegressor()], \n",
    "               \"Results\":[]}"
   ]
  },
  {
   "cell_type": "code",
   "execution_count": 8,
   "metadata": {
    "collapsed": true
   },
   "outputs": [],
   "source": [
    "for o in experiments[\"Objects\"]:\n",
    "    experiments[\"Results\"].append(\n",
    "        model_selection.cross_val_score(o, y=df_hist[\"Sales\"], \n",
    "                                        X=df_hist.drop(\"Sales\", axis=1)).mean())"
   ]
  },
  {
   "cell_type": "code",
   "execution_count": 9,
   "metadata": {
    "collapsed": false
   },
   "outputs": [
    {
     "data": {
      "text/html": [
       "<div>\n",
       "<table border=\"1\" class=\"dataframe\">\n",
       "  <thead>\n",
       "    <tr style=\"text-align: right;\">\n",
       "      <th></th>\n",
       "      <th>Results</th>\n",
       "    </tr>\n",
       "    <tr>\n",
       "      <th>Algorithm</th>\n",
       "      <th></th>\n",
       "    </tr>\n",
       "  </thead>\n",
       "  <tbody>\n",
       "    <tr>\n",
       "      <th>Ordinary Least Squares</th>\n",
       "      <td>0.446870</td>\n",
       "    </tr>\n",
       "    <tr>\n",
       "      <th>Regression Tree</th>\n",
       "      <td>0.749361</td>\n",
       "    </tr>\n",
       "    <tr>\n",
       "      <th>Random Forest</th>\n",
       "      <td>0.866699</td>\n",
       "    </tr>\n",
       "    <tr>\n",
       "      <th>Bagging</th>\n",
       "      <td>0.778943</td>\n",
       "    </tr>\n",
       "  </tbody>\n",
       "</table>\n",
       "</div>"
      ],
      "text/plain": [
       "                         Results\n",
       "Algorithm                       \n",
       "Ordinary Least Squares  0.446870\n",
       "Regression Tree         0.749361\n",
       "Random Forest           0.866699\n",
       "Bagging                 0.778943"
      ]
     },
     "execution_count": 9,
     "metadata": {},
     "output_type": "execute_result"
    }
   ],
   "source": [
    "DataFrame(experiments).drop(\"Objects\", axis=1).set_index(\"Algorithm\")"
   ]
  },
  {
   "cell_type": "markdown",
   "metadata": {},
   "source": [
    "### Fit and Predict\n",
    "\n",
    "The Super Bowl promotion data table contains all product/pricing pairs, along with the current data for the historical schema."
   ]
  },
  {
   "cell_type": "code",
   "execution_count": 10,
   "metadata": {
    "collapsed": true
   },
   "outputs": [],
   "source": [
    "fitted = RandomForestRegressor().fit(y=df_hist[\"Sales\"], X=df_hist.drop(\"Sales\", axis=1))"
   ]
  },
  {
   "cell_type": "code",
   "execution_count": 11,
   "metadata": {
    "collapsed": false
   },
   "outputs": [
    {
     "data": {
      "text/plain": [
       "36"
      ]
     },
     "execution_count": 11,
     "metadata": {},
     "output_type": "execute_result"
    }
   ],
   "source": [
    "df_superbowl_original = pandas.read_excel(\"super_bowl_promotion_data.xlsx\")\n",
    "df_superbowl = get_dummies(df_superbowl_original, prefix={k:\"dmy_%s\"%k for k in categorical_columns},\n",
    "                      columns = list(categorical_columns))\n",
    "assert \"Sales\" not in df_superbowl.columns \n",
    "assert {\"Sales\"}.union(df_superbowl.columns).issubset(set(df_hist.columns))\n",
    "len(df_superbowl)"
   ]
  },
  {
   "cell_type": "markdown",
   "metadata": {},
   "source": [
    "We shouldn't be surprised that the much larger historical data table has categorical selections that don't appear in the Carnivale promotion table."
   ]
  },
  {
   "cell_type": "code",
   "execution_count": 12,
   "metadata": {
    "collapsed": true
   },
   "outputs": [],
   "source": [
    "for fld in set(df_hist.columns).difference(df_superbowl.columns, {\"Sales\"}):\n",
    "    assert fld.startswith(\"dmy_\")\n",
    "    df_superbowl[fld] = 0"
   ]
  },
  {
   "cell_type": "code",
   "execution_count": 13,
   "metadata": {
    "collapsed": false
   },
   "outputs": [],
   "source": [
    "predicted = fitted.predict(df_superbowl)"
   ]
  },
  {
   "cell_type": "code",
   "execution_count": 14,
   "metadata": {
    "collapsed": false
   },
   "outputs": [],
   "source": [
    "forecast_sales = df_superbowl_original[[\"Product\", \"Cost Per Unit\"]].copy()\n",
    "forecast_sales[\"Sales\"] = predicted"
   ]
  },
  {
   "cell_type": "markdown",
   "metadata": {},
   "source": [
    "# Optimization Section\n",
    "\n",
    "We use the `ticdat` package to organize the data into \"dict-of-dicts\". This will facilitate reusing the same code block against different data sources."
   ]
  },
  {
   "cell_type": "code",
   "execution_count": 15,
   "metadata": {
    "collapsed": true
   },
   "outputs": [],
   "source": [
    "from ticdat import TicDatFactory, Slicer\n",
    "import gurobipy as gu"
   ]
  },
  {
   "cell_type": "code",
   "execution_count": 16,
   "metadata": {
    "collapsed": true
   },
   "outputs": [],
   "source": [
    "input_schema = TicDatFactory(products = [[\"Name\"],[\"Family\"]],\n",
    "                             forecast_sales = [[\"Product\", \"Cost Per Unit\"],\n",
    "                                               [\"Sales\"]],\n",
    "                             max_promotions = [[\"Product Family\"],[\"Max Promotions\"]]\n",
    "                             )"
   ]
  },
  {
   "cell_type": "code",
   "execution_count": 17,
   "metadata": {
    "collapsed": false
   },
   "outputs": [],
   "source": [
    "dat = input_schema.TicDat(\n",
    "        products = {'11 Down': 'Clear',\n",
    "                    'AB Root Beer': 'Dark',\n",
    "                    'Alpine Stream': 'Clear',\n",
    "                    'Bright': 'Clear',\n",
    "                    'Crisp Clear': 'Clear',\n",
    "                    'DC Kola': 'Dark',\n",
    "                    'Koala Kola': 'Dark',\n",
    "                    'Mr. Popper': 'Dark',\n",
    "                    'Popsi Kola': 'Dark'},\n",
    "        forecast_sales = forecast_sales.set_index([\"Product\", \"Cost Per Unit\"]), \n",
    "        max_promotions = {'Dark': 2, 'Clear': 2})\n",
    "assert (len(dat.forecast_sales) == len(forecast_sales))\n",
    "assert (set(dat.products) == {pdct for (pdct, cost) in dat.forecast_sales})"
   ]
  },
  {
   "cell_type": "code",
   "execution_count": 18,
   "metadata": {
    "collapsed": true
   },
   "outputs": [],
   "source": [
    "normal_price = {pdct:0 for pdct in dat.products}\n",
    "for pdct, price in dat.forecast_sales:\n",
    "    normal_price[pdct] = max(normal_price[pdct], price)"
   ]
  },
  {
   "cell_type": "markdown",
   "metadata": {},
   "source": [
    "It's natural that the predictions don't always imply that cheaper costs will result in more sales. This is more likely for this data set since the training data table was fairly small.\n",
    "\n",
    "Here is the number of total discount options across all products."
   ]
  },
  {
   "cell_type": "code",
   "execution_count": 19,
   "metadata": {
    "collapsed": false
   },
   "outputs": [
    {
     "data": {
      "text/plain": [
       "27"
      ]
     },
     "execution_count": 19,
     "metadata": {},
     "output_type": "execute_result"
    }
   ],
   "source": [
    "len(dat.forecast_sales) - len(dat.products)"
   ]
  },
  {
   "cell_type": "markdown",
   "metadata": {},
   "source": [
    "Here is the number of meaningful discounts (i.e. discounts that are predicted to increase sales)."
   ]
  },
  {
   "cell_type": "code",
   "execution_count": 20,
   "metadata": {
    "collapsed": false
   },
   "outputs": [
    {
     "data": {
      "text/plain": [
       "17"
      ]
     },
     "execution_count": 20,
     "metadata": {},
     "output_type": "execute_result"
    }
   ],
   "source": [
    "number_meaningful_discounts = 0\n",
    "for (pdct, price), r in dat.forecast_sales.items():\n",
    "    if (price < normal_price[pdct] and \n",
    "        r[\"Sales\"] > dat.forecast_sales[pdct,normal_price[pdct]][\"Sales\"]):\n",
    "        number_meaningful_discounts += 1\n",
    "number_meaningful_discounts"
   ]
  },
  {
   "cell_type": "code",
   "execution_count": 21,
   "metadata": {
    "collapsed": true
   },
   "outputs": [],
   "source": [
    "def revenue(pdct, price):\n",
    "    return dat.forecast_sales[pdct, price][\"Sales\"] * price\n",
    "def investment(pdct, price):\n",
    "    return max(0, dat.forecast_sales[pdct, price][\"Sales\"] * normal_price[pdct] -\n",
    "                  revenue(pdct, normal_price[pdct]))"
   ]
  },
  {
   "cell_type": "code",
   "execution_count": 22,
   "metadata": {
    "collapsed": true
   },
   "outputs": [],
   "source": [
    "mdl = gu.Model(\"beer promotion\")"
   ]
  },
  {
   "cell_type": "code",
   "execution_count": 23,
   "metadata": {
    "collapsed": true
   },
   "outputs": [],
   "source": [
    "pdct_price = mdl.addVars(dat.forecast_sales, vtype=gu.GRB.BINARY,name='pdct_price')"
   ]
  },
  {
   "cell_type": "code",
   "execution_count": 24,
   "metadata": {
    "collapsed": false
   },
   "outputs": [
    {
     "data": {
      "text/plain": [
       "{'11 Down': <gurobi.Constr *Awaiting Model Update*>,\n",
       " 'AB Root Beer': <gurobi.Constr *Awaiting Model Update*>,\n",
       " 'Alpine Stream': <gurobi.Constr *Awaiting Model Update*>,\n",
       " 'Bright': <gurobi.Constr *Awaiting Model Update*>,\n",
       " 'Crisp Clear': <gurobi.Constr *Awaiting Model Update*>,\n",
       " 'DC Kola': <gurobi.Constr *Awaiting Model Update*>,\n",
       " 'Koala Kola': <gurobi.Constr *Awaiting Model Update*>,\n",
       " 'Mr. Popper': <gurobi.Constr *Awaiting Model Update*>,\n",
       " 'Popsi Kola': <gurobi.Constr *Awaiting Model Update*>}"
      ]
     },
     "execution_count": 24,
     "metadata": {},
     "output_type": "execute_result"
    }
   ],
   "source": [
    "mdl.addConstrs((pdct_price.sum(pdct,'*') == 1 for pdct in dat.products), name = \"pick_one_price\")"
   ]
  },
  {
   "cell_type": "code",
   "execution_count": 25,
   "metadata": {
    "collapsed": false
   },
   "outputs": [],
   "source": [
    "pf_slice = Slicer((dat.products[pdct][\"Family\"], pdct, price) for pdct, price in pdct_price)\n",
    "for pdct_family, r in dat.max_promotions.items():\n",
    "    mdl.addConstr(gu.quicksum(pdct_price[_pdct, _price]\n",
    "                              for _pdct_family, _pdct, _price in pf_slice.slice(pdct_family, '*', '*')\n",
    "                              if _price != normal_price[_pdct]) <= r[\"Max Promotions\"],\n",
    "                  name = \"max_promotions_%s\"%pdct_family)"
   ]
  },
  {
   "cell_type": "markdown",
   "metadata": {},
   "source": [
    "We create dedicated variables for each KPI. The total investment is limited to 500."
   ]
  },
  {
   "cell_type": "code",
   "execution_count": 26,
   "metadata": {
    "collapsed": true
   },
   "outputs": [],
   "source": [
    "max_investment = 500\n",
    "total_qty = mdl.addVar(name=\"total_qty\")\n",
    "total_revenue = mdl.addVar(name=\"total_revenue\")\n",
    "total_investment = mdl.addVar(name=\"total_investment\", ub = max_investment)"
   ]
  },
  {
   "cell_type": "code",
   "execution_count": 27,
   "metadata": {
    "collapsed": false
   },
   "outputs": [
    {
     "data": {
      "text/plain": [
       "<gurobi.Constr *Awaiting Model Update*>"
      ]
     },
     "execution_count": 27,
     "metadata": {},
     "output_type": "execute_result"
    }
   ],
   "source": [
    "mdl.addConstr(total_qty == pdct_price.prod({_:dat.forecast_sales[_][\"Sales\"] for _ in pdct_price}))\n",
    "mdl.addConstr(total_revenue == pdct_price.prod({_:revenue(*_) for _ in pdct_price}))\n",
    "mdl.addConstr(total_investment == pdct_price.prod({_:investment(*_) for _ in pdct_price}))"
   ]
  },
  {
   "cell_type": "code",
   "execution_count": 28,
   "metadata": {
    "collapsed": false
   },
   "outputs": [
    {
     "name": "stdout",
     "output_type": "stream",
     "text": [
      "Optimize a model with 14 rows, 39 columns and 155 nonzeros\n",
      "Variable types: 3 continuous, 36 integer (36 binary)\n",
      "Coefficient statistics:\n",
      "  Matrix range     [1e+00, 4e+03]\n",
      "  Objective range  [1e+00, 1e+00]\n",
      "  Bounds range     [1e+00, 5e+02]\n",
      "  RHS range        [1e+00, 2e+00]\n",
      "Found heuristic solution: objective 5881.36\n",
      "Presolve removed 13 rows and 35 columns\n",
      "Presolve time: 0.01s\n",
      "Presolved: 1 rows, 4 columns, 4 nonzeros\n",
      "Found heuristic solution: objective 6033.6800000\n",
      "Variable types: 0 continuous, 4 integer (4 binary)\n",
      "\n",
      "Root relaxation: cutoff, 0 iterations, 0.00 seconds\n",
      "\n",
      "Explored 0 nodes (0 simplex iterations) in 0.02 seconds\n",
      "Thread count was 4 (of 4 available processors)\n",
      "\n",
      "Solution count 3: 6033.68 5881.36 5853.04 \n",
      "Pool objective bound 6033.68\n",
      "\n",
      "Optimal solution found (tolerance 1.00e-04)\n",
      "Best objective 6.033680000000e+03, best bound 6.033680000000e+03, gap 0.0000%\n"
     ]
    }
   ],
   "source": [
    "mdl.setObjective(total_qty, sense=gu.GRB.MAXIMIZE)\n",
    "mdl.optimize()"
   ]
  },
  {
   "cell_type": "code",
   "execution_count": 29,
   "metadata": {
    "collapsed": false
   },
   "outputs": [
    {
     "data": {
      "text/plain": [
       "True"
      ]
     },
     "execution_count": 29,
     "metadata": {},
     "output_type": "execute_result"
    }
   ],
   "source": [
    "mdl.status == gu.GRB.OPTIMAL"
   ]
  },
  {
   "cell_type": "markdown",
   "metadata": {},
   "source": [
    "Display the KPIs and pricing choices. Observe that the total investment constraint is nearly tight (likely as tight as possible given integrality of variables) and the max promotions constraint is tight for each product family."
   ]
  },
  {
   "cell_type": "code",
   "execution_count": 30,
   "metadata": {
    "collapsed": false
   },
   "outputs": [
    {
     "data": {
      "text/plain": [
       "(6033.68, 11506.959925000001, 492.2085250000003)"
      ]
     },
     "execution_count": 30,
     "metadata": {},
     "output_type": "execute_result"
    }
   ],
   "source": [
    "(total_qty.X,  total_revenue.X, total_investment.X)"
   ]
  },
  {
   "cell_type": "code",
   "execution_count": 31,
   "metadata": {
    "collapsed": true
   },
   "outputs": [],
   "source": [
    "price_selections = {\"Product\":[], \"Price\":[], \"Is Discount\":[], \"Family\":[]}\n",
    "for (pdct, price), var in pdct_price.items():\n",
    "    if abs(var.X -1) < 0.0001: # i.e. almost one\n",
    "        price_selections[\"Product\"].append(pdct)\n",
    "        price_selections[\"Price\"].append(price)\n",
    "        price_selections[\"Is Discount\"].append(price < normal_price[pdct])\n",
    "        price_selections[\"Family\"].append(dat.products[pdct][\"Family\"])"
   ]
  },
  {
   "cell_type": "code",
   "execution_count": 32,
   "metadata": {
    "collapsed": false
   },
   "outputs": [
    {
     "data": {
      "text/html": [
       "<div>\n",
       "<table border=\"1\" class=\"dataframe\">\n",
       "  <thead>\n",
       "    <tr style=\"text-align: right;\">\n",
       "      <th></th>\n",
       "      <th>Price</th>\n",
       "      <th>Is Discount</th>\n",
       "      <th>Family</th>\n",
       "    </tr>\n",
       "    <tr>\n",
       "      <th>Product</th>\n",
       "      <th></th>\n",
       "      <th></th>\n",
       "      <th></th>\n",
       "    </tr>\n",
       "  </thead>\n",
       "  <tbody>\n",
       "    <tr>\n",
       "      <th>11 Down</th>\n",
       "      <td>1.4550</td>\n",
       "      <td>True</td>\n",
       "      <td>Clear</td>\n",
       "    </tr>\n",
       "    <tr>\n",
       "      <th>Alpine Stream</th>\n",
       "      <td>2.2275</td>\n",
       "      <td>False</td>\n",
       "      <td>Clear</td>\n",
       "    </tr>\n",
       "    <tr>\n",
       "      <th>Crisp Clear</th>\n",
       "      <td>1.4700</td>\n",
       "      <td>False</td>\n",
       "      <td>Clear</td>\n",
       "    </tr>\n",
       "    <tr>\n",
       "      <th>Bright</th>\n",
       "      <td>1.2825</td>\n",
       "      <td>True</td>\n",
       "      <td>Clear</td>\n",
       "    </tr>\n",
       "    <tr>\n",
       "      <th>DC Kola</th>\n",
       "      <td>1.9150</td>\n",
       "      <td>True</td>\n",
       "      <td>Dark</td>\n",
       "    </tr>\n",
       "    <tr>\n",
       "      <th>AB Root Beer</th>\n",
       "      <td>3.8425</td>\n",
       "      <td>False</td>\n",
       "      <td>Dark</td>\n",
       "    </tr>\n",
       "    <tr>\n",
       "      <th>Popsi Kola</th>\n",
       "      <td>1.7500</td>\n",
       "      <td>False</td>\n",
       "      <td>Dark</td>\n",
       "    </tr>\n",
       "    <tr>\n",
       "      <th>Koala Kola</th>\n",
       "      <td>2.5650</td>\n",
       "      <td>False</td>\n",
       "      <td>Dark</td>\n",
       "    </tr>\n",
       "    <tr>\n",
       "      <th>Mr. Popper</th>\n",
       "      <td>2.9000</td>\n",
       "      <td>True</td>\n",
       "      <td>Dark</td>\n",
       "    </tr>\n",
       "  </tbody>\n",
       "</table>\n",
       "</div>"
      ],
      "text/plain": [
       "                Price Is Discount Family\n",
       "Product                                 \n",
       "11 Down        1.4550        True  Clear\n",
       "Alpine Stream  2.2275       False  Clear\n",
       "Crisp Clear    1.4700       False  Clear\n",
       "Bright         1.2825        True  Clear\n",
       "DC Kola        1.9150        True   Dark\n",
       "AB Root Beer   3.8425       False   Dark\n",
       "Popsi Kola     1.7500       False   Dark\n",
       "Koala Kola     2.5650       False   Dark\n",
       "Mr. Popper     2.9000        True   Dark"
      ]
     },
     "execution_count": 32,
     "metadata": {},
     "output_type": "execute_result"
    }
   ],
   "source": [
    "(DataFrame(price_selections).set_index(\"Product\")[[\"Price\", \"Is Discount\", \"Family\"]].\n",
    " sort_values(\"Family\"))"
   ]
  },
  {
   "cell_type": "code",
   "execution_count": null,
   "metadata": {
    "collapsed": true
   },
   "outputs": [],
   "source": []
  }
 ],
 "metadata": {
  "kernelspec": {
   "display_name": "Python 2",
   "language": "python",
   "name": "python2"
  },
  "language_info": {
   "codemirror_mode": {
    "name": "ipython",
    "version": 2
   },
   "file_extension": ".py",
   "mimetype": "text/x-python",
   "name": "python",
   "nbconvert_exporter": "python",
   "pygments_lexer": "ipython2",
   "version": "2.7.11"
  }
 },
 "nbformat": 4,
 "nbformat_minor": 0
}
